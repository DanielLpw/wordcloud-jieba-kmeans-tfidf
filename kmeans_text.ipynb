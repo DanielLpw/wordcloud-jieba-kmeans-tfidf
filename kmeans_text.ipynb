{
 "cells": [
  {
   "cell_type": "code",
   "execution_count": 1,
   "metadata": {},
   "outputs": [],
   "source": [
    "\n",
    "import jieba\n",
    "import numpy as np\n",
    "from jieba import posseg\n",
    "from collections import defaultdict\n",
    "import matplotlib.pyplot as plt\n",
    "plt.rcParams['font.sans-serif']=['SimHei']     #设置为SimHei字体，确保中文输出  \n",
    "%matplotlib inline\n",
    "def cut(string):\n",
    "    return list(jieba.cut(string))   #jieba.cut 获取字符\n",
    "\n",
    "\n",
    "def idf(word):\n",
    "    eps = 1e-6   #防止error\n",
    "    \n",
    "    return 1 / (np.log10(sum(1 for s in sentences if word in s)) + eps)    #输出各个词的idf  df = 检查词出现在多少不同句子中   idf，是一个log10公式\n",
    "\n",
    "\n",
    "def tf(word, sentence_cut):\n",
    "    return sentence_cut.count(word)           #输出各个词的tf，词频数 某个词在一个句子出现词数\n",
    "\n",
    "\n",
    "def tfidf(word, sentence):\n",
    "    return tf(word, sentence) * idf(word)      #相乘\n",
    "\n",
    "\n",
    "def get_tfidf_from_sentence(sentence_cut):\n",
    "    ## you code here\n",
    "    '''\n",
    "    return : a dictionary\n",
    "    '''\n",
    "    \n",
    "    tf_idf_words = dict()\n",
    "    \n",
    "    for c in set(sentence_cut):\n",
    "        tf_idf_words[c] = tfidf(c, sentence_cut)    #句子中每个单词的tfidf值\n",
    "        \n",
    "    return tf_idf_words\n",
    "\n",
    "\n",
    "def get_top_tfidf(sentence_cut, ratio=0.25):\n",
    "    \"\"\"\n",
    "    return : [(word1, tfidf_value), (word2, tfidf_value)]\n",
    "    \"\"\"\n",
    "    tfidf_value = get_tfidf_from_sentence(sentence_cut)\n",
    "    \n",
    "    top_ratio = ratio                 #占比最高的百分之多少\n",
    "    \n",
    "    return sorted(tfidf_value.items(), key=lambda x: x[1], reverse=True)[:int(len(tfidf_value)*top_ratio)]\n",
    "\n",
    "\n",
    "def is_name(cut_word):          #判断是否为名字\n",
    "    w, _type = list(posseg.cut(cut_word))[0]         \n",
    "       \n",
    "    if _type == 'nr': return True\n",
    "    \n",
    "    return False\n",
    "\n",
    "\n",
    "# def get_names_from_sentence(sentence: str):\n",
    "#     names = []\n",
    "    \n",
    "#     for w_t in posseg.cut(cut_word):\n",
    "#         w, t = tuple(w_t)\n",
    "        \n",
    "#         if t ++ \n",
    "#     return [w for w in cut_sentence if is_name(w)]\n",
    "\n",
    "\n",
    "# we do some refractor\n",
    "# def get_name_correlate(sentence: str):\n",
    "    \n",
    "#     name_correlate = defaultdict(lambda : defaultdict(int))\n",
    "    \n",
    "#     names = []\n",
    "    \n",
    "#     for w_t in posseg.cut(sentence):\n",
    "#         w, t = tuple(w_t)\n",
    "        \n",
    "#         if t == 'nr': names.append(w)\n",
    "            \n",
    "#     for n in names:\n",
    "#         for w in names:\n",
    "#             if n == w: continue\n",
    "                \n",
    "#             name_correlate[n][w] += 1 \n",
    "    \n",
    "#     return name_correlate\n",
    "# def get_names_from_sentence(cut_sentence):\n",
    "#     return [w for w in cut_sentence if is_name(w)]   #\n",
    "\n",
    "# def get_name_correlate(sentence_cut):\n",
    "#     name_correlate = defaultdict(lambda : defaultdict(int))     #定义格式   'name_key':{ 'name': int}\n",
    "# #     for sentence_cut in sentences_cut:          #输入是多个句子的切词后的list，对每一句进行处理\n",
    "#     names_in_sentence = get_names_from_sentence(sentence_cut)      #获取每句中的人名，生成一个人名list\n",
    "#     for name_key in names_in_sentence:          #搜索名字作为name_key（第一层的dict），并搜索同句子中所有名字\n",
    "#         for name_in_same_sentence in names_in_sentence:                 \n",
    "#             if name_in_same_sentence == name_key:         #若是key，不计数\n",
    "#                 pass\n",
    "#             else:                               #不为key，则加1\n",
    "#                 name_correlate[name_key][name_in_same_sentence] += 1\n",
    "#     return name_correlate\n",
    "\n",
    "def get_name_correlate(sentence):\n",
    "    name_correlate = defaultdict(lambda : defaultdict(int))     #定义格式   'name_key':{ 'name': int}\n",
    "    names = []\n",
    "    for w_t in posseg.cut(sentence):    #切割句子获取名字\n",
    "        w, t = tuple(w_t)\n",
    "        if t == 'nr': names.append(w)\n",
    "    for name_key in names:          #搜索名字作为name_key（第一层的dict），并搜索同句子中所有名字\n",
    "        for name_in_same_sentence in names:                 \n",
    "            if name_in_same_sentence == name_key:         #若是key，不计数\n",
    "                pass\n",
    "            else:                               #不为key，则加1\n",
    "                name_correlate[name_key][name_in_same_sentence] += 1\n",
    "    return name_correlate"
   ]
  },
  {
   "cell_type": "code",
   "execution_count": 2,
   "metadata": {},
   "outputs": [],
   "source": [
    "content = open('./article_9k.txt',encoding='utf-8')\n",
    "CHARACTERS = content.read()"
   ]
  },
  {
   "cell_type": "code",
   "execution_count": 3,
   "metadata": {},
   "outputs": [],
   "source": [
    "sentences = CHARACTERS.split('\\n')\n",
    "all_sentences_with_cut_tokens = []"
   ]
  },
  {
   "cell_type": "code",
   "execution_count": 4,
   "metadata": {},
   "outputs": [
    {
     "name": "stderr",
     "output_type": "stream",
     "text": [
      "Building prefix dict from the default dictionary ...\n",
      "Loading model from cache C:\\Users\\86186\\AppData\\Local\\Temp\\jieba.cache\n",
      "Loading model cost 0.653 seconds.\n",
      "Prefix dict has been built successfully.\n"
     ]
    }
   ],
   "source": [
    "all_sentences_with_cut_tokens = [cut(s) for s in sentences]"
   ]
  },
  {
   "cell_type": "code",
   "execution_count": 5,
   "metadata": {},
   "outputs": [],
   "source": [
    "from sklearn.feature_extraction.text import TfidfVectorizer"
   ]
  },
  {
   "cell_type": "code",
   "execution_count": 6,
   "metadata": {},
   "outputs": [],
   "source": [
    "import random"
   ]
  },
  {
   "cell_type": "code",
   "execution_count": 8,
   "metadata": {},
   "outputs": [],
   "source": [
    "sample_sentences = random.sample(all_sentences_with_cut_tokens, k=1000)     #随机采样,拿1000句已分词的句子"
   ]
  },
  {
   "cell_type": "code",
   "execution_count": 12,
   "metadata": {},
   "outputs": [
    {
     "data": {
      "text/plain": [
       "1000"
      ]
     },
     "execution_count": 12,
     "metadata": {},
     "output_type": "execute_result"
    }
   ],
   "source": [
    "len(sample_sentences)"
   ]
  },
  {
   "cell_type": "code",
   "execution_count": 13,
   "metadata": {},
   "outputs": [],
   "source": [
    "sample_sentence_to_scikit = [\n",
    "    ' '.join(s) for s in sample_sentences\n",
    "]    #组成组成一个个句子的"
   ]
  },
  {
   "cell_type": "markdown",
   "metadata": {},
   "source": [
    "['新华社 照片 戛纳 法国 2017 年 5 月 24 日 n 国际 1 影片 牡丹花 下 戛纳 首映 n5 月 24 日 在 法国 戛纳 影片 牡丹花 下 的 演员 科林 法雷尔 左一 柯尔丝 滕邓 斯特 左二埃勒范宁 左 三 导演 索菲亚 科波 拉 左 四 演员 妮可 基德曼 右 四等 主创人员 参加 红毯 首映礼 n 当日 参与 角逐 第 70 届 戛纳 国际 电影节 金棕榈奖 的 主 竞赛 单元 影片 牡丹花 下 在 法国 戛纳 首映 n 新华社 记者 陈益宸 摄 nn',\n",
    " '点击 图片 进入 下 一页 台北 市长 柯文 哲 图片 来源 台湾 联合报 中国台湾 网 6 月 19 日讯据 台湾 中 时 电子报 报道 台北 市长 柯文 哲与 民进党 间 的 矛盾 愈加 明显 从 台北 农产 运销 公司 人事 案 公开 批 前瞻 假话 到 指派 国安会 前 副 秘书长 张荣丰 出任 富邦金 独立 董事 皆 站 在 与 民进党 对立 一侧 引发 许多 政治 联想 柯文 哲 近期 一连串 动作 无不 冲着 民进党 来 先是 在 北农 公司 总经理 案 与 民进党 意见 不合 险 翻脸 后 又 在 新闻 深 喉咙 节目 专访 时 公开批评 台当局 行政院 前瞻 计划 只是 想 花钱 不是 想 做事 近日 还 找 与 蔡 英文 关系 不睦 的 张荣丰 出任 富邦金 独立 董事 台媒 报道 指出 在 批评 前瞻 事件 上 虽 柯文 哲 事后 解释 是 针对 交通部 但 绿营 人士 不 买单 认为 骂 交通部 等于 骂 林全 和 前瞻 并 指 民进党 积极 协助 台北市 府 筹办 世 大运 但柯 的 发言 屡屡 冲着 民进党 来 若 欠缺 基本 政治 诚信 又 决策 反覆 谁 还 敢 和 柯 P 合作 中国台湾 网 李宁',"
   ]
  },
  {
   "cell_type": "code",
   "execution_count": 16,
   "metadata": {},
   "outputs": [
    {
     "data": {
      "text/plain": [
       "'点击 图片 进入 下 一页 台北 市长 柯文 哲 图片 来源 台湾 联合报 中国台湾 网 6 月 19 日讯据 台湾 中 时 电子报 报道 台北 市长 柯文 哲与 民进党 间 的 矛盾 愈加 明显 从 台北 农产 运销 公司 人事 案 公开 批 前瞻 假话 到 指派 国安会 前 副 秘书长 张荣丰 出任 富邦金 独立 董事 皆 站 在 与 民进党 对立 一侧 引发 许多 政治 联想 柯文 哲 近期 一连串 动作 无不 冲着 民进党 来 先是 在 北农 公司 总经理 案 与 民进党 意见 不合 险 翻脸 后 又 在 新闻 深 喉咙 节目 专访 时 公开批评 台当局 行政院 前瞻 计划 只是 想 花钱 不是 想 做事 近日 还 找 与 蔡 英文 关系 不睦 的 张荣丰 出任 富邦金 独立 董事 台媒 报道 指出 在 批评 前瞻 事件 上 虽 柯文 哲 事后 解释 是 针对 交通部 但 绿营 人士 不 买单 认为 骂 交通部 等于 骂 林全 和 前瞻 并 指 民进党 积极 协助 台北市 府 筹办 世 大运 但柯 的 发言 屡屡 冲着 民进党 来 若 欠缺 基本 政治 诚信 又 决策 反覆 谁 还 敢 和 柯 P 合作 中国台湾 网 李宁'"
      ]
     },
     "execution_count": 16,
     "metadata": {},
     "output_type": "execute_result"
    }
   ],
   "source": [
    "sample_sentence_to_scikit[1]"
   ]
  },
  {
   "cell_type": "markdown",
   "metadata": {},
   "source": [
    "vectorizer = CountVectorizer() #构建一个计算词频（TF）的玩意儿，当然这里面不足是可以做这些\n",
    "\n",
    "transformer = TfidfTransformer() #构建一个计算TF-IDF的玩意儿\n",
    "\n",
    "tfidf = transformer.fit_transform(vectorizer.fit_transform(corpus))\n",
    "\n",
    "#vectorizer.fit_transform(corpus)将文本corpus输入，得到词频矩阵\n",
    "\n",
    "#将这个矩阵作为输入，用transformer.fit_transform(词频矩阵)得到TF-IDF权重矩阵\n",
    "\n",
    "\n",
    "\n",
    "TfidfTransformer + CountVectorizer  =  TfidfVectorizer\n"
   ]
  },
  {
   "cell_type": "code",
   "execution_count": 24,
   "metadata": {},
   "outputs": [],
   "source": [
    "vectorizer = TfidfVectorizer()         "
   ]
  },
  {
   "cell_type": "code",
   "execution_count": 25,
   "metadata": {},
   "outputs": [],
   "source": [
    "X_Tfidf = vectorizer.fit_transform(sample_sentence_to_scikit)    #获得一个词频矩阵，fit_transform的"
   ]
  },
  {
   "cell_type": "code",
   "execution_count": 26,
   "metadata": {},
   "outputs": [
    {
     "data": {
      "text/plain": [
       "(1000, 26040)"
      ]
     },
     "execution_count": 26,
     "metadata": {},
     "output_type": "execute_result"
    }
   ],
   "source": [
    "X_Tfidf.shape"
   ]
  },
  {
   "cell_type": "code",
   "execution_count": 27,
   "metadata": {},
   "outputs": [],
   "source": [
    "vectorizer = TfidfVectorizer(max_features=3000)"
   ]
  },
  {
   "cell_type": "code",
   "execution_count": 28,
   "metadata": {},
   "outputs": [],
   "source": [
    "X_Tfidf_max3000 = vectorizer.fit_transform(sample_sentence_to_scikit)    #获得一个词频矩阵，fit_transform的"
   ]
  },
  {
   "cell_type": "code",
   "execution_count": 29,
   "metadata": {},
   "outputs": [
    {
     "data": {
      "text/plain": [
       "(1000, 3000)"
      ]
     },
     "execution_count": 29,
     "metadata": {},
     "output_type": "execute_result"
    }
   ],
   "source": [
    "X_Tfidf_max3000.shape\n",
    "# vectorizer.vocabulary_  显示词和ID的对应dictionary     {123123:'瓜皮'}"
   ]
  },
  {
   "cell_type": "code",
   "execution_count": 36,
   "metadata": {},
   "outputs": [
    {
     "data": {
      "text/plain": [
       "array([[0., 0., 0., ..., 0., 0., 0.]])"
      ]
     },
     "execution_count": 36,
     "metadata": {},
     "output_type": "execute_result"
    }
   ],
   "source": [
    "X_Tfidf_max3000[2].toarray()"
   ]
  },
  {
   "cell_type": "code",
   "execution_count": 37,
   "metadata": {},
   "outputs": [
    {
     "data": {
      "text/plain": [
       "array([[0., 0., 0., ..., 0., 0., 0.]])"
      ]
     },
     "execution_count": 37,
     "metadata": {},
     "output_type": "execute_result"
    }
   ],
   "source": [
    "X_Tfidf_max3000[1].toarray()"
   ]
  },
  {
   "cell_type": "code",
   "execution_count": 38,
   "metadata": {},
   "outputs": [],
   "source": [
    "import numpy as np"
   ]
  },
  {
   "cell_type": "code",
   "execution_count": 39,
   "metadata": {},
   "outputs": [
    {
     "data": {
      "text/plain": [
       "(array([0, 0, 0, 0, 0, 0, 0, 0, 0, 0, 0, 0, 0, 0, 0, 0, 0, 0, 0, 0],\n",
       "       dtype=int64),\n",
       " array([  29,   36,   56,   73,   77,  785,  786,  936, 1176, 1353, 1365,\n",
       "        1451, 1639, 1919, 2006, 2029, 2115, 2256, 2554, 2576], dtype=int64))"
      ]
     },
     "execution_count": 39,
     "metadata": {},
     "output_type": "execute_result"
    }
   ],
   "source": [
    "np.where(X_Tfidf_max3000[0].toarray())"
   ]
  },
  {
   "cell_type": "code",
   "execution_count": 40,
   "metadata": {},
   "outputs": [],
   "source": [
    "id_to_word = {_id: word for word, _id in vectorizer.vocabulary_.items()}"
   ]
  },
  {
   "cell_type": "code",
   "execution_count": 42,
   "metadata": {},
   "outputs": [
    {
     "data": {
      "text/plain": [
       "'新华社照片戛纳法国2017年5月24日n国际1影片牡丹花下戛纳首映n5月24日在法国戛纳影片牡丹花下的演员科林法雷尔左一柯尔丝滕邓斯特左二埃勒范宁左三导演索菲亚科波拉左四演员妮可基德曼右四等主创人员参加红毯首映礼n当日参与角逐第70届戛纳国际电影节金棕榈奖的主竞赛单元影片牡丹花下在法国戛纳首映n新华社记者陈益宸摄nn'"
      ]
     },
     "execution_count": 42,
     "metadata": {},
     "output_type": "execute_result"
    }
   ],
   "source": [
    "''.join(sample_sentences[0])"
   ]
  },
  {
   "cell_type": "code",
   "execution_count": 43,
   "metadata": {},
   "outputs": [
    {
     "data": {
      "text/plain": [
       "'一支'"
      ]
     },
     "execution_count": 43,
     "metadata": {},
     "output_type": "execute_result"
    }
   ],
   "source": [
    "id_to_word[128]"
   ]
  },
  {
   "cell_type": "code",
   "execution_count": 44,
   "metadata": {},
   "outputs": [
    {
     "data": {
      "text/plain": [
       "'上海浦东国际机场'"
      ]
     },
     "execution_count": 44,
     "metadata": {},
     "output_type": "execute_result"
    }
   ],
   "source": [
    "id_to_word[176]"
   ]
  },
  {
   "cell_type": "code",
   "execution_count": 45,
   "metadata": {},
   "outputs": [],
   "source": [
    "from sklearn.cluster import KMeans"
   ]
  },
  {
   "cell_type": "code",
   "execution_count": null,
   "metadata": {},
   "outputs": [],
   "source": []
  },
  {
   "cell_type": "code",
   "execution_count": 47,
   "metadata": {},
   "outputs": [],
   "source": [
    "kmeans = KMeans(n_clusters=5, random_state=0).fit(X_Tfidf_max3000)   #定义5类"
   ]
  },
  {
   "cell_type": "code",
   "execution_count": 49,
   "metadata": {},
   "outputs": [],
   "source": [
    "# kmeans.labels_"
   ]
  },
  {
   "cell_type": "code",
   "execution_count": 50,
   "metadata": {},
   "outputs": [],
   "source": [
    "from sklearn.manifold import TSNE"
   ]
  },
  {
   "cell_type": "code",
   "execution_count": 52,
   "metadata": {},
   "outputs": [],
   "source": [
    "X_embedded = TSNE(n_components=2).fit_transform(X_Tfidf_max3000.toarray())     #TSNE降维处理"
   ]
  },
  {
   "cell_type": "code",
   "execution_count": 53,
   "metadata": {},
   "outputs": [
    {
     "data": {
      "text/plain": [
       "(1000, 2)"
      ]
     },
     "execution_count": 53,
     "metadata": {},
     "output_type": "execute_result"
    }
   ],
   "source": [
    "X_embedded.shape"
   ]
  },
  {
   "cell_type": "code",
   "execution_count": 54,
   "metadata": {},
   "outputs": [
    {
     "data": {
      "text/plain": [
       "array([-8.447804, 22.087912], dtype=float32)"
      ]
     },
     "execution_count": 54,
     "metadata": {},
     "output_type": "execute_result"
    }
   ],
   "source": [
    "X_embedded[0]"
   ]
  },
  {
   "cell_type": "code",
   "execution_count": 55,
   "metadata": {},
   "outputs": [
    {
     "data": {
      "text/plain": [
       "array([-14.701913, -21.301619], dtype=float32)"
      ]
     },
     "execution_count": 55,
     "metadata": {},
     "output_type": "execute_result"
    }
   ],
   "source": [
    "X_embedded[1]"
   ]
  },
  {
   "cell_type": "code",
   "execution_count": 56,
   "metadata": {},
   "outputs": [],
   "source": [
    "test_array = np.array([\n",
    "    [1, 2], \n",
    "    [3, 4],\n",
    "    [5, 6]\n",
    "])"
   ]
  },
  {
   "cell_type": "code",
   "execution_count": 57,
   "metadata": {},
   "outputs": [
    {
     "data": {
      "text/plain": [
       "array([1, 3, 5])"
      ]
     },
     "execution_count": 57,
     "metadata": {},
     "output_type": "execute_result"
    }
   ],
   "source": [
    "test_array[:, 0]"
   ]
  },
  {
   "cell_type": "code",
   "execution_count": 58,
   "metadata": {},
   "outputs": [
    {
     "data": {
      "text/plain": [
       "array([2, 4, 6])"
      ]
     },
     "execution_count": 58,
     "metadata": {},
     "output_type": "execute_result"
    }
   ],
   "source": [
    "test_array[:, 1]"
   ]
  },
  {
   "cell_type": "code",
   "execution_count": 59,
   "metadata": {},
   "outputs": [
    {
     "data": {
      "text/plain": [
       "<matplotlib.collections.PathCollection at 0x1f4a12acb00>"
      ]
     },
     "execution_count": 59,
     "metadata": {},
     "output_type": "execute_result"
    },
    {
     "name": "stderr",
     "output_type": "stream",
     "text": [
      "e:\\python\\python37\\lib\\site-packages\\matplotlib\\backends\\backend_agg.py:214: RuntimeWarning: Glyph 8722 missing from current font.\n",
      "  font.set_text(s, 0.0, flags=flags)\n",
      "e:\\python\\python37\\lib\\site-packages\\matplotlib\\backends\\backend_agg.py:183: RuntimeWarning: Glyph 8722 missing from current font.\n",
      "  font.set_text(s, 0, flags=flags)\n"
     ]
    },
    {
     "data": {
      "image/png": "[encoded data removed]",
      "text/plain": [
       "<Figure size 432x288 with 1 Axes>"
      ]
     },
     "metadata": {
      "needs_background": "light"
     },
     "output_type": "display_data"
    }
   ],
   "source": [
    "plt.scatter(X_embedded[:, 0], X_embedded[:, 1])"
   ]
  },
  {
   "cell_type": "code",
   "execution_count": 61,
   "metadata": {},
   "outputs": [
    {
     "data": {
      "image/png": "[encoded data removed]",
      "text/plain": [
       "<Figure size 432x288 with 1 Axes>"
      ]
     },
     "metadata": {
      "needs_background": "light"
     },
     "output_type": "display_data"
    }
   ],
   "source": [
    "color = ['red', 'blue', 'green', 'gray', 'yellow']\n",
    "\n",
    "for i, label in enumerate(kmeans.labels_):                #实际的聚类点分类图 （之所以要降2维embedded是因为可视化的问题）\n",
    "    plt.scatter(X_embedded[i, 0], X_embedded[i, 1], color=color[label])"
   ]
  },
  {
   "cell_type": "code",
   "execution_count": 73,
   "metadata": {},
   "outputs": [],
   "source": [
    "red_articles_id = [i for i, label in enumerate(kmeans.labels_) if label == 0]      #提取每一类的词的ID\n",
    "blue_articles_id = [i for i, label in enumerate(kmeans.labels_) if label == 1]     "
   ]
  },
  {
   "cell_type": "code",
   "execution_count": 63,
   "metadata": {},
   "outputs": [
    {
     "data": {
      "text/plain": [
       "[21,\n",
       " 53,\n",
       " 70,\n",
       " 81,\n",
       " 83,\n",
       " 136,\n",
       " 177,\n",
       " 236,\n",
       " 269,\n",
       " 290,\n",
       " 331,\n",
       " 353,\n",
       " 375,\n",
       " 386,\n",
       " 413,\n",
       " 516,\n",
       " 519,\n",
       " 559,\n",
       " 589,\n",
       " 608,\n",
       " 642,\n",
       " 643,\n",
       " 646,\n",
       " 657,\n",
       " 694,\n",
       " 707,\n",
       " 713,\n",
       " 879,\n",
       " 914,\n",
       " 916,\n",
       " 983,\n",
       " 986,\n",
       " 989,\n",
       " 992]"
      ]
     },
     "execution_count": 63,
     "metadata": {},
     "output_type": "execute_result"
    }
   ],
   "source": [
    "red_articles_id"
   ]
  },
  {
   "cell_type": "code",
   "execution_count": 64,
   "metadata": {},
   "outputs": [
    {
     "name": "stdout",
     "output_type": "stream",
     "text": [
      "['nan']\n",
      "['nan']\n",
      "['nan']\n",
      "['nan']\n",
      "['nan']\n",
      "['nan']\n",
      "['nan']\n",
      "['nan']\n",
      "['nan']\n",
      "['nan']\n"
     ]
    }
   ],
   "source": [
    "for _id in red_articles_id[:10]:    #词ID转回去词，因为词要进行label变数字才可以处理的\n",
    "    print(sample_sentences[_id])"
   ]
  },
  {
   "cell_type": "code",
   "execution_count": 67,
   "metadata": {},
   "outputs": [
    {
     "name": "stdout",
     "output_type": "stream",
     "text": [
      "新华社照片杜塞尔多夫2017年6月4日n体育12乒乓球世乒赛波尔晋级八强n6月3日波尔在比赛中n当日在德国杜塞尔多夫举行的2017年世界乒乓球锦标赛男单八分之一决赛中德国选手波尔以4比1战胜葡萄牙选手弗雷塔斯晋级八强n新华社记者罗欢欢摄\n",
      "新华社照片外代2017年5月29日n外代二线高尔夫球PGA欧洲锦标赛瑞典选手诺伦夺冠n5月28日瑞典选手诺伦中夺冠后与美国选手乌伊莱因左握手致意n当日2017年PGA欧洲锦标赛在英格兰萨里郡的温特沃斯高尔夫俱乐部落幕瑞典选手诺伦最终夺冠n新华社路透AI\n",
      "新华社照片外代2017年5月24日n外代二线网球日内瓦公开赛锦织圭晋级n5月23日哈萨克斯坦选手库库什金在比赛中回球n当日在瑞士日内瓦网球公开赛男单次轮比赛中日本选手锦织圭2比0战胜哈萨克斯坦选手库库什金n新华社欧新n\n",
      "新华社照片黄石湖北2017年5月14日n体育5乒乓球女乒热身赛刘诗雯胜张瑞n5月14日张瑞在比赛中回球n当日在湖北黄石举行的中国女子乒乓球队备战德国世乒赛热身赛中刘诗雯以4比1战胜队友张瑞n新华社记者肖艺九摄\n",
      "新华社巴黎６月４日电记者苏斌法网第八比赛日成为女单大满贯得主的出局日在４日的比赛中包括卫冕冠军穆古拉扎在内几位曾在大满贯赛事中有过夺冠经历的选手先后出局今年法网将诞生一位新的大满贯得主n女双项目中中国选手郑赛赛与罗马尼亚选手贝古的跨协会组合晋级八强男单两位名将纳达尔和焦科维奇拒绝冷门完成横扫后挺进八强n面对主场作战的梅拉德诺维奇出战女单第四轮的穆古拉扎压力可想而知尽管四号种子在首盘１６告负的情况下以６３拿下第二盘但她在现场观众一边倒的支持声中还是以３６丢掉决胜盘止步１６强n对观众表现有所不满的穆古拉扎在退场时面对掌声做出了摇手指的动作赛后泪洒发布会现场的她还隐晦地对此发表了个人观点我觉得他们现场观众有时应当对比赛多一份尊重比赛中我们时常需要停下来主裁需不断示意观众安静我来参赛不是为了树敌n两夺大满贯单打桂冠的八号种子库兹涅佐娃与１１号种子沃兹尼亚奇上演焦点对决沃兹尼亚奇以６１４６和６２笑到最后赛后库兹涅佐娃认为对手的防守做得很好比赛中自己得到了一些机会可惜没能把握住n另外两位大满贯女单冠军也止住了前进脚步七届大满贯得主大威廉姆斯以７５２６和１６不敌３０号种子巴辛斯基２０１１年美网冠军澳大利亚好手斯托瑟也以６２２６和４６遭拉脱维亚选手奥斯塔片科逆转n因前一日雨水被推迟到当日进行的女单第三轮较量未出现意外二号种子普利斯科娃与五号种子斯维托丽娜顺利晋级包括二人在内剩余女子选手均未有过大满贯单打夺冠经历今年法网确定将诞生又一位女单大满贯得主n四朵中国金花出战当日女双第三轮其中郑赛赛与贝古的搭档在与段莹莹彭帅的正面对话中以６４和６２取胜首次搭档就闯入大满贯八强郑赛赛直言没想到另一位中国队选手徐一幡与加拿大选手达布罗斯基的组合以３６６３和２６负于奥拉鲁萨夫丘克止步１６强n上轮仅用时９０分钟收获完胜的红土之王纳达尔面对西班牙同胞阿古特也没费多少周折一场１１０分钟的对决过后３日度过了３１岁生日的纳达尔以６１６２６２横扫对手晋级八强n中心场地最后时段登场的焦科维奇对阵西班牙人维诺拉斯首盘焦科维奇用时７５分钟通过抢七大战艰难取胜不过二号种子此后两盘没给对手多少机会以６１６３获胜n六号种子蒂姆与五号种子拉奥尼奇一喜一忧前者直落三盘轻取阿根廷人泽巴洛斯后者则与西班牙选手布斯塔苦战五盘后遗憾落败半决赛纳达尔对阵布斯塔焦科维奇迎战蒂姆完n\n",
      "新华社照片外代2017年5月20日n外代二线网球意大利公开赛蒂姆晋级四强n5月19日奥地利选手蒂姆在比赛中回球n当日在罗马举行的意大利网球公开赛男单四分之一决赛中奥地利选手蒂姆以2比0击败西班牙选手纳达尔晋级四强n新华社欧新n\n",
      "新华社照片武汉2017年4月26日n体育6羽毛球亚锦赛谌龙晋级n4月26日中国选手谌龙在比赛中回球n当日在湖北武汉体育中心举行的2017年亚洲羽毛球锦标赛男单首轮比赛中中国选手谌龙以2比0战胜菲律宾选手罗斯佩德罗萨晋级下一轮n新华社记者肖艺九摄\n",
      "新华社照片无锡江苏2017年4月10日n体育9乒乓球亚锦赛男团中国队晋级四强n4月10日中国队选手张继科在比赛中回球张继科以3比2战胜朝鲜队选手姜伟勋n当日在江苏省无锡市举行的第23届亚洲乒乓球锦标赛男子团体赛四分之一决赛中中国队以3比0战胜朝鲜队晋级四强n新华社记者韩瑜庆摄\n",
      "新华社照片谢菲尔德英国2017年4月19日n体育1斯诺克世锦赛丁俊晖胜周跃龙n4月18日丁俊晖在比赛中n当日在英格兰谢菲尔德进行的世界斯诺克锦标赛首轮比赛中中国选手丁俊晖以10比5战胜同胞周跃龙晋级第二轮n新华社发乔恩巴克尔摄\n",
      "新华社洛美４月３０日电记者张改萍陈太蕾科托努消息第十六届汉语桥世界大学生中文比赛贝宁赛区复赛２９日在贝宁中国文化中心落幕n此次比赛以梦想点亮未来为主题分两轮第一轮包括选手自我介绍回答评委提问与朗读第二轮包括演讲和才艺展示９名从初赛中脱颖而出的选手同场竞技展示汉语技能n我希望成为国际翻译为中非友谊添砖加瓦我的梦想是为穷人们建一所免费学校第一轮比赛中选手们积极展示自己的梦想面对评委们的提问他们机智应对表现出扎实的汉语功底n第二轮比赛中选手们争相使出独门秘籍现场亮点多多有的选手手脚并用手持竹笛怀中揽鼓脚踩非洲摇演绎一出非洲版白毛女有的选手身着自己设计的民族服饰登场高歌一曲引起现场观众啧啧称赞有的选手则跳起了婀娜多姿的舞蹈选手的亲友们也纷纷来到现场为他们呐喊助威n经过激烈的角逐贝宁阿波美卡拉维大学孔子学院三年级学生莱昂以出众的表现征服了现场评委与观众获得一等奖孔子学院二年级学生梅卡取得第二名按照比赛规定排名第一的选手将赴中国参加第十六届汉语桥世界大学生中文比赛全球总决赛排名第二的选手将有机会受邀赴中国观摩总决赛n这次比赛由中国驻贝宁大使馆文化处主办贝宁中国文化中心承办贝宁阿波美卡拉维大学孔子学院协办中国驻贝宁大使馆官员贝宁政府官员孔子学院师生及汉语爱好者等２００余人观看了比赛完\n",
      "新华社照片马德里2017年5月14日n体育2网球马德里公开赛纳达尔晋级决赛n5月13日纳达尔在比赛中回球n当日在马德里网球公开赛男单决赛中西班牙选手纳达尔以2比0战胜塞尔维亚选手焦科维奇晋级决赛n新华社发爱德华多迭格斯摄\n",
      "新华社照片路透2017年5月14日n体育1网球马德里公开赛哈勒普夺冠n5月13日哈勒普怀抱奖杯n当日在马德里网球公开赛女单决赛中罗马尼亚选手哈勒普以2比1战胜法国选手姆拉德诺维奇获得冠军n新华社路透\n",
      "新华社照片外代2017年5月15日n外代二线网球马德里公开赛纳达尔夺冠n5月14日西班牙选手纳达尔庆祝夺冠n当日在马德里网球公开赛男单决赛中西班牙选手纳达尔2比0击败奥地利选手蒂姆获得冠军n新华社美联\n",
      "新华社照片巴黎2017年5月28日n体育1网球法网女单头号种子科贝尔爆冷首轮出局n5月28日科贝尔在比赛中回球n当日在法国巴黎进行的2017法国网球公开赛女子单打第一轮比赛中头号种子德国选手科贝尔以0比2不敌俄罗斯选手马卡洛娃爆冷出局n新华社记者韩岩摄\n",
      "新华社照片常州江苏2017年4月22日n体育4羽毛球大师赛王懿律黄东萍晋级决赛n4月22日中国选手王懿律黄东萍前在比赛中回球n当日在江苏常州举行的2017中国羽毛球大师赛混双半决赛中中国选手王懿律黄东萍以2比0战胜印度尼西亚选手哈菲兹法伊扎尔谢拉奥利亚晋级决赛n新华社记者季春鹏摄\n",
      "新华社照片日内瓦2017年5月27日n体育5网球日内瓦公开赛兹韦列夫晋级决赛n5月26日德国选手米沙兹韦列夫在比赛中回球n当日在瑞士日内瓦网球公开赛男单半决赛中德国选手米沙兹韦列夫以2比1战胜日本选手锦织圭晋级决赛n新华社发阿兰格罗克洛德摄\n",
      "新华社照片黄金海岸澳大利亚2017年5月25日n体育5羽毛球苏迪曼杯丹麦对阵泰国n5月25日丹麦选手阿克塞尔森在男单比赛中回球他以2比0战胜泰国选手坦农萨克n当日在澳大利亚黄金海岸举行的2017年苏迪曼杯世界羽毛球混合团体锦标赛四分之一决赛中丹麦队对阵泰国队n新华社记者吕小炜摄\n",
      "新华社照片外代2017年6月1日n外代二线网球法网拉奥尼奇晋级第三轮n5月31日巴西选手席尔瓦在比赛中回球n当日在法国巴黎举行的2017法国网球公开赛男子单打第二轮比赛中加拿大选手拉奥尼奇以3比1战胜巴西选手席尔瓦晋级第三轮n新华社美联\n",
      "新华社照片外代2017年4月18日n外代二线田径波士顿马拉松肯尼亚选手包揽男女冠军n4月17日肯尼亚选手基鲁伊在比赛中n当日在第121届波士顿马拉松比赛中肯尼亚选手基鲁伊与基普拉加特分别获得男女组冠军n新华社欧新n\n",
      "新华社照片杜塞尔多夫2017年6月1日n体育9乒乓球世乒赛马龙晋级n6月1日科尔贝里在比赛中回球n当日在德国杜塞尔多夫举行的2017年世界乒乓球锦标赛男单第二轮比赛中中国选手马龙以4比2战胜瑞典选手科尔贝里晋级下一轮n新华社记者陶希夷摄nnnn\n",
      "新华社照片谢菲尔德英国2017年5月1日n体育5斯诺克世锦赛决赛进入最后一日争夺n5月1日塞尔比在比赛中n当日在英国谢菲尔德克鲁斯堡剧院进行的2017斯诺克世界锦标赛决赛进入最后一日的争夺英格兰选手塞尔比对阵苏格兰选手希金斯n新华社记者韩岩摄\n",
      "新华社照片无锡江苏2017年4月14日n体育1乒乓球亚锦赛女单陈梦胜加藤美优n4月14日陈梦在比赛中回球n当日在江苏省无锡市举行的第23届亚洲乒乓球锦标赛女单八分之一决赛中中国选手陈梦以3比1战胜日本选手加藤美优晋级八强n新华社记者季春鹏摄\n",
      "新华社照片杜塞尔多夫2017年6月4日n体育10乒乓球世乒赛女单决赛丁宁夺冠n6月4日丁宁在比赛后接受采访n当日在德国杜塞尔多夫举行的2017年世界乒乓球锦标赛女单决赛中中国选手丁宁以4比2战胜队友朱雨玲获得冠军n新华社记者陶希夷摄nnnnn\n",
      "新华社照片黄金海岸澳大利亚2017年5月23日n体育11羽毛球苏迪曼杯中国澳门胜新喀里多尼亚n5月23日中国澳门选手吴颖嗣在女单比赛中她以2比0战胜新喀里多尼亚选手玛陶丽n当日在澳大利亚黄金海岸举行的2017年苏迪曼杯世界羽毛球混合团体锦标赛小组赛中中国澳门队以5比0战胜新喀里多尼亚队n新华社记者吕小炜摄\n",
      "新华社照片无锡江苏2017年4月15日n体育8乒乓球亚锦赛陈梦获女单亚军n4月15日中国选手陈梦在比赛中n当日在江苏省无锡市举行的第23届亚洲乒乓球锦标赛女单决赛中中国选手陈梦以0比3不敌日本选手平野美宇获得亚军n新华社记者韩瑜庆摄nnn\n",
      "新华社照片武汉2017年5月7日n体育7体操全国锦标赛男子全能赛况n5月7日福建队选手林超攀在双杠比赛中最终林超攀获得男子全能冠军n当日2017全国体操锦标赛暨全运会体操预选赛男子全能比赛在湖北武汉体育中心体育馆举行n新华社发熊琦摄\n",
      "新华社照片外代2017年4月2日n外代二线花样滑冰世锦赛金博洋获得季军n4月1日中国选手金博洋在男子单人滑自由滑比赛中n当日在芬兰赫尔辛基举行的2017年花样滑冰世锦赛男子单人滑比赛中中国选手金博洋夺得铜牌n新华社欧新n\n",
      "新华社照片外代2017年6月5日n外代二线网球法网蒂姆晋级八强n6月4日奥地利选手蒂姆在比赛中发球n当日在巴黎进行的法国网球公开赛男单第四轮比赛中奥地利选手蒂姆以3比0战胜阿根廷选手塞瓦略斯晋级八强n新华社欧新\n",
      "新华社照片武汉2017年4月29日n体育4羽毛球亚锦赛谌龙晋级男单决赛n4月29日谌龙在比赛中回球当日在湖北武汉体育中心举行的2017年亚洲羽毛球锦标赛男单半决赛中中国选手谌龙以2比0战胜队友石宇奇晋级决赛n新华社记者肖艺九摄\n",
      "新华社照片巴黎2017年6月1日n体育3网球法网斯维托丽娜晋级n6月1日斯维托丽娜在比赛中回球n当日在法国巴黎举行的2017法国网球公开赛女子单打第二轮比赛中乌克兰选手斯维托丽娜以2比1战胜保加利亚选手皮隆科娃晋级第三轮n新华社记者陈益宸摄n\n",
      "新华社照片杜塞尔多夫2017年6月3日n体育16乒乓球世乒赛吉村真晴石川佳纯混双夺冠n6月3日吉村真晴石川佳纯右在获胜后庆祝n当日在德国杜塞尔多夫举行的2017年世界乒乓球锦标赛混双决赛中日本组合吉村真晴石川佳纯以4比3战胜中国台北组合陈建安郑怡静夺得冠军n新华社记者陶希夷摄nnn\n",
      "新华社照片无锡江苏2017年4月11日n体育16乒乓球亚锦赛中国女团夺冠n4月11日中国队选手刘诗雯在比赛中回球刘诗雯以3比1战胜日本队选手平野美宇n当日在江苏省无锡市举行的第23届亚洲乒乓球锦标赛女团决赛中中国队以总分3比0战胜日本队夺得冠军n新华社记者韩瑜庆摄\n",
      "新华社照片杜塞尔多夫2017年6月3日n体育9乒乓球世乒赛朱雨玲晋级决赛n6月3日朱雨玲左在比赛中发球n当日在德国杜塞尔多夫举行的2017年世界乒乓球锦标赛女单半决赛中中国选手朱雨玲以4比3战胜队友刘诗雯晋级决赛n新华社记者罗欢欢摄nnnn\n",
      "新华社照片巴黎2017年5月24日n体育1网球法国网球公开赛韩馨蕴不敌冈萨雷斯n5月23日韩馨蕴在比赛中回球n当日在法国巴黎举行的法国网球公开赛女单资格赛首轮比赛中中国选手韩馨蕴以0比2不敌巴拉圭选手冈萨雷斯n新华社发让马里埃尔维奥摄\n",
      "新华社照片北京2017年4月1日n体育2斯诺克中国公开赛塞尔比对阵威尔逊n4月1日马克塞尔比在比赛中n当日在2017世界斯诺克中国公开赛半决赛中英格兰选手马克塞尔比对阵同胞凯伦威尔逊n新华社记者张晨霖摄\n",
      "新华社照片杜塞尔多夫德国2017年5月31日n体育2乒乓球世乒赛张继科胜纳吉n5月31日张继科上与纳吉在比赛中n当日在德国杜塞尔多夫举行的2017年世界乒乓球锦标赛男单第一轮比赛中中国选手张继科以4比0战胜匈牙利选手纳吉晋级下一轮n新华社记者罗欢欢摄\n",
      "新华社照片巴黎2017年6月4日n体育6网球法网沃兹尼亚奇晋级八强n6月4日沃兹尼亚奇在比赛中回球n当日在法国巴黎举行的2017法国网球公开赛女子单打八分之一决赛中丹麦选手沃兹尼亚奇以2比1战胜俄罗斯选手库兹涅佐娃晋级八强n新华社记者陈益宸摄nnn\n",
      "新华社照片无锡江苏2017年4月12日n体育7乒乓球亚锦赛方博王曼昱晋级四强n4月12日中国组合方博王曼昱前比赛中n当日在江苏省无锡市举行的第23届亚洲乒乓球锦标赛混双四分之一决赛中中国组合方博王曼昱以3比1战胜中国香港组合江天一李皓晴晋级四强n新华社记者李响摄\n",
      "新华社照片外代2017年5月13日n外代二线网球马德里公开赛姆拉德诺维奇晋级决赛n5月12日法国选手姆拉德诺维奇在比赛中回球n当日在马德里网球公开赛女单半决赛中法国选手姆拉德诺维奇2比0战胜俄罗斯选手库兹涅佐娃晋级决赛n新华社欧新n\n",
      "新华社照片外代2017年6月7日n外代二线网球法网奥斯塔片科晋级半决赛n6月6日丹麦选手沃兹尼亚奇在比赛中回球n当日在巴黎举行的法国网球公开赛女单四分之一决赛中拉脱维亚选手奥斯塔片科2比1战胜丹麦选手沃兹尼亚奇晋级半决赛n新华社欧新n\n",
      "新华社照片常州江苏2017年4月20日n体育3羽毛球大师赛韩悦晋级n4月20日中国选手韩悦庆祝获胜n当日在江苏常州举行的2017中国羽毛球大师赛女单第二轮比赛中中国选手韩悦以2比1战胜同胞惠夕蕊晋级下一轮n新华社记者李响摄\n",
      "新华社照片外代2017年5月30日n外代二线网球法网穆古拉扎首轮晋级n5月29日穆古拉扎在比赛中回球n当日在法国巴黎进行的2017法国网球公开赛女子单打第一轮比赛中西班牙选手穆古拉扎以2比0战胜意大利选手斯基亚沃内进入第二轮n新华社美联\n",
      "新华社照片北京2017年6月3日n体育1全国校园铁人三项邀请赛在京举行n6月3日获得男子小轮车两项前三名的选手祁双红中邓时全左和吴尔肯在颁奖仪式上合影n当日2017首都高校第六届校园铁人三项赛暨全国高校第五届校园铁人三项邀请赛在中国石油大学举行比赛分为小轮车两项轮滑三项水陆两项等五个项目共有来自全国25个院校的180名选手参加本届比赛n新华社记者孟永民摄\n",
      "新华社照片外代2017年5月22日n外代二线网球意大利公开赛斯维托莉娜夺冠n5月21日乌克兰选手斯维托莉娜庆祝夺冠n当日在罗马举行的意大利网球公开赛女单决赛中乌克兰选手斯维托莉娜2比1战胜罗马尼亚选手哈勒普夺得冠军n新华社欧新n\n",
      "新华社照片外代2017年5月29日n外代二线网球法国公开赛科贝尔爆冷出局n5月28日俄罗斯选手马卡洛娃在比赛中回球n当日在法国巴黎进行的2017法国网球公开赛女子单打第一轮比赛中德国选手科贝尔以0比2不敌俄罗斯选手马卡洛娃爆冷出局n新华社欧新n\n",
      "新华社照片外代2017年6月1日n外代二线网球法网沃兹尼亚奇晋级第三轮n5月31日丹麦选手沃兹尼亚奇庆祝获胜n当日在法国巴黎举行的2017法国网球公开赛女子单打第二轮比赛中丹麦选手沃兹尼亚奇以2比0战胜加拿大选手阿班达晋级第三轮n新华社路透\n",
      "新华社照片巴黎2017年6月5日n体育4网球法网哈勒普晋级八强n6月5日哈勒普在比赛中回球n当日在法国巴黎举行的2017法国网球公开赛女子单打八分之一决赛中罗马尼亚选手哈勒普以2比0战胜西班牙选手纳瓦罗晋级八强n新华社记者陈益宸摄n\n",
      "新华社照片常州江苏2017年4月23日n体育5羽毛球中国大师赛田厚威男单夺冠n4月23日田厚威在比赛中飞身救球n当日在江苏常州举行的2017中国羽毛球大师赛男单决赛中中国选手田厚威以2比1战胜队友乔斌获得冠军n新华社记者李响摄\n",
      "新华社照片常州江苏2017年4月22日n体育1羽毛球中国大师赛高昉洁无缘决赛n4月22日高昉洁在比赛中回球n当日在江苏常州举行的2017中国羽毛球大师赛女单半决赛中中国球员高昉洁以0比2负于日本球员大堀彩无缘决赛n新华社记者韩瑜庆摄\n",
      "新华社照片无锡江苏2017年4月11日n体育4乒乓球混双中国选手晋级n4月11日周雨左陈幸同在比赛后庆祝胜利n当日在江苏无锡举行的第23届亚洲乒乓球锦标赛混双第二轮比赛中中国选手周雨陈幸同以3比0战胜马尔代夫选手穆罕默德艾莎斯n新华社记者陶希夷摄\n",
      "新华社照片外代2017年6月2日n外代二线网球法网沃达斯科晋级第三轮n6月1日西班牙选手沃达斯科在比赛中回球n当日在法国巴黎举行的2017法国网球公开赛男子单打第二轮比赛中西班牙选手沃达斯科以3比2战胜法国选手赫伯特晋级第三轮n新华社欧新n\n",
      "新华社照片外代2017年5月27日n外代二线网球斯特拉斯堡国际女子网球赛加夫里洛娃晋级决赛n5月26日法国选手加西亚在比赛中回球n当日在法国斯特拉斯堡国际女子网球赛单打半决赛中澳大利亚选手加夫里洛娃以2比0战胜法国选手加西亚晋级决赛n新华社西霸n\n",
      "新华社照片武汉2017年4月28日n体育3羽毛球亚锦赛李宗伟晋级四强n4月28日马来西亚选手李宗伟上在比赛中回球n当日在湖北武汉体育中心举行的2017年亚洲羽毛球锦标赛男单四分之一决赛中马来西亚选手李宗伟以2比0战胜中国台北选手许仁豪晋级四强n新华社发熊琦摄\n",
      "新华社照片赫尔辛基2017年4月1日n体育3花样滑冰世锦赛金博洋获男单铜牌n4月1日中国选手金博洋在自由滑比赛中n当日在芬兰赫尔辛基举行的2017年花样滑冰世锦赛男子单人滑比赛中中国选手金博洋以30358分的总成绩获得铜牌n新华社记者刘力航摄\n",
      "新华社照片古晋马来西亚2017年4月8日n体育3羽毛球李宗伟晋级马来西亚公开赛半决赛n4月7日李宗伟在比赛中回球n当日在马来西亚古晋举行的马来西亚羽毛球公开赛男单四分之一决赛中马来西亚选手李宗伟以2比0战胜韩国选手全奕陈晋级半决赛n新华社发张纹综摄\n",
      "新华社照片香港2016年11月25日n体育3羽毛球香港公开赛戴资颖晋级半决赛n11月25日中国台北选手戴资颖在比赛中回球n当日在香港体育馆举行的香港羽毛球公开赛女子单打四分之一决赛中中国台北选手戴资颖以2比0战胜日本选手大堀彩晋级半决赛n新华社记者卢炳辉摄\n",
      "新华社照片上海2017年4月25日n焙烤师傅的技术能手之战n4月25日参赛选手在第18届全国焙烤职业技能竞赛上海赛区比赛中n当日2017中国技能大赛第18届全国焙烤职业技能竞赛上海赛区比赛举行来自上海及周边地区的近60名选手在装饰蛋糕技术比赛月饼技术比赛和面包技术比赛3个项目上展开角逐优胜选手将于5月在上海举办的全国决赛中与另外13个赛区的优胜选手共同争夺9个全国技术能手称号n新华社记者方喆摄\n",
      "新华社照片杜塞尔多夫2017年6月4日n体育3乒乓球世乒赛森园政崇大岛祐哉晋级男双决赛n6月3日森园政崇左大岛祐哉在比赛中n当日在德国杜塞尔多夫举行的2017年世界乒乓球锦标赛男双半决赛中日本选手森园政崇大岛祐哉以4比2战胜韩国选手郑荣植李尚洙晋级决赛n新华社记者陶希夷摄n\n",
      "新华社照片谢菲尔德英国2017年4月29日n体育10斯诺克世锦赛半决赛丁俊晖暂时与塞尔比战平n4月28日塞尔比在半决赛第三阶段比赛中n当日在英国谢菲尔德克鲁斯堡剧院进行的2017斯诺克世界锦标赛半决赛第三阶段比赛结束后中国选手丁俊晖与英格兰选手塞尔比以12比12战平n新华社发乔恩巴克尔摄\n",
      "新华社照片外代2017年5月13日n外代二线网球马德里公开赛纳达尔晋级半决赛n5月12日西班牙选手纳达尔在比赛中回球n当日在马德里网球公开赛男单四分之一决赛中西班牙选手纳达尔2比0战胜比利时选手戈芬晋级半决赛n新华社欧新n\n",
      "新华社照片外代2017年5月11日n外代二线网球马德里公开赛焦科维奇晋级n5月10日塞尔维亚选手焦科维奇在比赛中庆祝得分n当日在马德里网球公开赛男单次轮比赛中塞尔维亚选手焦科维奇以2比1战胜西班牙选手阿尔马格罗晋级下一轮n新华社欧新n\n",
      "新华社照片路透2017年4月1日n体育1网球迈阿密公开赛费德勒晋级决赛n3月31日费德勒获胜后向观众致意n当日在2017迈阿密网球公开赛男单半决赛中瑞士选手费德勒以2比1战胜澳大利亚选手克耶高斯晋级决赛n新华社路透\n",
      "新华社照片武汉2017年4月30日n体育6羽毛球亚锦赛谌龙夺得男单冠军n4月30日中国选手谌龙在比赛中回球n当日在2017年亚洲羽毛球锦标赛男单决赛中中国选手谌龙以2比1战胜队友林丹夺得冠军n新华社记者肖艺九摄\n",
      "新华社照片鲁昂法国2017年4月9日n体育2网球戴维斯杯四分之一决赛法国队胜英国队n4月8日朱利安贝内托尼古拉马于右在比赛中n当日在2017年戴维斯杯网球赛世界组四分之一决赛男子双打比赛中法国队选手朱利安贝内托尼古拉马于以3比1战胜英国队选手多米尼克因格洛特杰米穆雷最终法国队以3比0的总成绩战胜英国队n新华社记者陈益宸摄\n",
      "新华社照片巴黎2017年5月22日n体育3网球法国网球公开赛吴迪不敌因格纳蒂克n5月22日吴迪在比赛中回球n当日在法国巴黎举行的法国网球公开赛男子资格赛首轮比赛中中国选手吴迪以0比2不敌白俄罗斯选手因格纳蒂克n新华社发让马里埃尔维奥摄n\n",
      "新华社照片外代2017年5月20日n外代二线网球意大利公开赛贝尔滕斯晋级四强n5月19日澳大利亚选手加夫里洛娃在比赛中回球n当日在罗马举行的意大利网球公开赛女单四分之一决赛中荷兰选手贝尔滕斯以2比0击败澳大利亚选手加夫里洛娃成功晋级n新华社欧新n\n",
      "新华社照片外代2017年5月20日n外代二线网球意大利公开赛蒂姆晋级四强n5月19日奥地利选手蒂姆庆祝胜利n当日在罗马举行的意大利网球公开赛男单四分之一决赛中奥地利选手蒂姆以2比0击败西班牙选手纳达尔晋级四强n新华社欧新n\n",
      "新华社照片上海2017年4月25日n焙烤师傅的技术能手之战n4月25日选手曾一铠用喷火筒为他制作的冰上芭蕾装饰蛋糕加固n当日2017中国技能大赛第18届全国焙烤职业技能竞赛上海赛区比赛举行来自上海及周边地区的近60名选手在装饰蛋糕技术比赛月饼技术比赛和面包技术比赛3个项目上展开角逐优胜选手将于5月在上海举办的全国决赛中与另外13个赛区的优胜选手共同争夺9个全国技术能手称号n新华社记者方喆摄\n",
      "新华社照片外代2017年5月19日n外代二线网球意大利公开赛穆古鲁扎晋级n5月18日西班牙选手穆古鲁扎在比赛中回球n当日在罗马举行的意大利网球公开赛女单第三轮比赛中西班牙选手穆古鲁扎以2比0击败德国选手格尔格斯n新华社欧新n\n",
      "新华社照片杜塞尔多夫2017年6月2日n体育9乒乓球世乒赛木子晋级八强n6月2日加藤美优在比赛中n当日在德国杜塞尔多夫举行的2017年世界乒乓球锦标赛女单第四轮比赛中中国选手木子以4比0战胜日本选手加藤美优晋级八强n新华社记者陶希夷摄nn\n",
      "新华社照片黄金海岸澳大利亚2017年5月27日n体育6羽毛球苏迪曼杯半决赛中国对阵日本n5月27日中国组合郑思维右陈清晨在混双比赛中他们以1比2不敌日本组合渡边勇大东野有纱n当日在澳大利亚黄金海岸举行的2017年苏迪曼杯世界羽毛球混合团体锦标赛半决赛中中国队对阵日本队n新华社记者吕小炜摄\n",
      "新华社照片马德里2017年5月10日n体育1网球马德里公开赛徐一璠东布罗夫斯基止步第二轮n5月10日徐一璠左东布罗夫斯基在比赛中击掌n当日在马德里网球公开赛女双第二轮比赛中跨国组合徐一璠中国东布罗夫斯基加拿大以0比2不敌跨国组合格罗恩费尔德德国佩施克斯捷克无缘下一轮n新华社发爱德华多迭格斯摄\n",
      "新华社照片外代2017年6月1日n外代二线网球法网拉奥尼奇晋级第三轮n5月31日加拿大选手拉奥尼奇在比赛中回球n当日在法国巴黎举行的2017法国网球公开赛男子单打第二轮比赛中加拿大选手拉奥尼奇以3比1战胜巴西选手席尔瓦晋级第三轮n新华社欧新n\n",
      "新华社照片常州江苏2017年4月20日n体育1羽毛球中国大师赛黄凯祥王懿律晋级n4月20日中国组合黄凯祥左王懿律在比赛中n当日在江苏常州举行的2017中国羽毛球大师赛男双第二轮比赛中中国组合黄凯祥王懿律以2比0战胜另一对中国组合樊秋月任翔宇晋级下一轮n新华社记者季春鹏摄\n",
      "新华社照片黄金海岸澳大利亚2017年5月25日n体育2羽毛球苏迪曼杯泰国胜丹麦n5月25日泰国队庆祝胜利n当日在澳大利亚黄金海岸举行的2017年苏迪曼杯世界羽毛球混合团体锦标赛四分之一决赛中泰国队以3比2战胜丹麦队n新华社记者吕小炜摄\n",
      "新华社照片黄金海岸澳大利亚2017年5月24日n体育11羽毛球苏迪曼杯印度尼西亚胜丹麦n5月24日印度尼西亚选手安东尼金丁左在男单结束后离场他以2比1战胜丹麦选手阿克塞尔森n当日在澳大利亚黄金海岸举行的2017年苏迪曼杯世界羽毛球混合团体锦标赛小组赛中印度尼西亚队以3比2战胜丹麦队n新华社记者吕小炜摄\n",
      "新华社照片无锡江苏2017年4月14日n体育9乒乓球亚锦赛丁宁无缘四强n4月14日中国选手丁宁在比赛中回球n当日在江苏省无锡市举行的第23届亚洲乒乓球锦标赛女子单打四分之一决赛中中国选手丁宁以2比3不敌日本选手平野美宇无缘四强n新华社记者陶希夷摄\n"
     ]
    }
   ],
   "source": [
    "for _id in blue_articles_id:\n",
    "    print(''.join(sample_sentences[_id]))   #都是体育的"
   ]
  },
  {
   "cell_type": "code",
   "execution_count": null,
   "metadata": {},
   "outputs": [],
   "source": []
  }
 ],
 "metadata": {
  "kernelspec": {
   "display_name": "Python 3",
   "language": "python",
   "name": "python3"
  },
  "language_info": {
   "codemirror_mode": {
    "name": "ipython",
    "version": 3
   },
   "file_extension": ".py",
   "mimetype": "text/x-python",
   "name": "python",
   "nbconvert_exporter": "python",
   "pygments_lexer": "ipython3",
   "version": "3.7.2"
  }
 },
 "nbformat": 4,
 "nbformat_minor": 4
}
